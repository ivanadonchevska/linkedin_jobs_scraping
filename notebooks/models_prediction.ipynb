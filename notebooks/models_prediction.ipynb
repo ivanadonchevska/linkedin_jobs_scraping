{
 "cells": [
  {
   "cell_type": "code",
   "execution_count": 2,
   "metadata": {},
   "outputs": [],
   "source": [
    "import pandas as pd\n",
    "import numpy as np\n",
    "import json\n",
    "\n",
    "import spacy\n",
    "from spacy.pipeline import EntityRuler\n",
    "from spacy.lang.en import English\n",
    "\n",
    "import warnings \n",
    "warnings.filterwarnings('ignore')"
   ]
  },
  {
   "cell_type": "code",
   "execution_count": 3,
   "metadata": {},
   "outputs": [
    {
     "data": {
      "text/html": [
       "<div>\n",
       "<style scoped>\n",
       "    .dataframe tbody tr th:only-of-type {\n",
       "        vertical-align: middle;\n",
       "    }\n",
       "\n",
       "    .dataframe tbody tr th {\n",
       "        vertical-align: top;\n",
       "    }\n",
       "\n",
       "    .dataframe thead th {\n",
       "        text-align: right;\n",
       "    }\n",
       "</style>\n",
       "<table border=\"1\" class=\"dataframe\">\n",
       "  <thead>\n",
       "    <tr style=\"text-align: right;\">\n",
       "      <th></th>\n",
       "      <th>Job_ID</th>\n",
       "      <th>Job_txt</th>\n",
       "      <th>company</th>\n",
       "      <th>job-title</th>\n",
       "      <th>level</th>\n",
       "      <th>location</th>\n",
       "      <th>posted-time-ago</th>\n",
       "      <th>nb_candidats</th>\n",
       "      <th>scraping_date</th>\n",
       "      <th>posted_date</th>\n",
       "      <th>skills</th>\n",
       "      <th>match_score</th>\n",
       "      <th>missing_skills</th>\n",
       "    </tr>\n",
       "  </thead>\n",
       "  <tbody>\n",
       "    <tr>\n",
       "      <th>8</th>\n",
       "      <td>4120976805</td>\n",
       "      <td>Junior C++ Developer Luxoft Bulgaria Sofia, So...</td>\n",
       "      <td>Luxoft Bulgaria</td>\n",
       "      <td>Junior C++ Developer</td>\n",
       "      <td>Associate</td>\n",
       "      <td>Sofia, Sofia City, Bulgaria</td>\n",
       "      <td>4 weeks ago</td>\n",
       "      <td>29.0</td>\n",
       "      <td>2025-02-06</td>\n",
       "      <td>2025-01-09</td>\n",
       "      <td>[finance, business, continuous integration, li...</td>\n",
       "      <td>50.0</td>\n",
       "      <td>finance,continuous integration,software,linux,...</td>\n",
       "    </tr>\n",
       "    <tr>\n",
       "      <th>30</th>\n",
       "      <td>4120978886</td>\n",
       "      <td>Junior/Regular C++ Developer Luxoft Sofia, Sof...</td>\n",
       "      <td>Luxoft</td>\n",
       "      <td>Junior/Regular C++ Developer</td>\n",
       "      <td>Mid-Senior level</td>\n",
       "      <td>Sofia, Sofia City, Bulgaria</td>\n",
       "      <td>4 weeks ago</td>\n",
       "      <td>NaN</td>\n",
       "      <td>2025-02-06</td>\n",
       "      <td>2025-01-09</td>\n",
       "      <td>[finance, business, continuous integration, li...</td>\n",
       "      <td>46.2</td>\n",
       "      <td>finance,kubernetes,continuous integration,lang...</td>\n",
       "    </tr>\n",
       "    <tr>\n",
       "      <th>26</th>\n",
       "      <td>4144431991</td>\n",
       "      <td>Back End Developer, Algorithms/Data Structures...</td>\n",
       "      <td>Owen Thomas | Pending B Corp™</td>\n",
       "      <td>Back End Developer, Algorithms/Data Structures...</td>\n",
       "      <td>Mid-Senior level</td>\n",
       "      <td>European Union</td>\n",
       "      <td>None</td>\n",
       "      <td>53.0</td>\n",
       "      <td>2025-02-06</td>\n",
       "      <td>NaT</td>\n",
       "      <td>[blockchain, prometheus, go, mongodb, algorith...</td>\n",
       "      <td>43.8</td>\n",
       "      <td>sentry,kubernetes,go,api,complex system,mongod...</td>\n",
       "    </tr>\n",
       "    <tr>\n",
       "      <th>9</th>\n",
       "      <td>4132048865</td>\n",
       "      <td>Junior Developer - SAP Next Talent Program SAP...</td>\n",
       "      <td>SAP</td>\n",
       "      <td>Junior Developer - SAP Next Talent Program</td>\n",
       "      <td>Not Applicable</td>\n",
       "      <td>Sofia, Sofia City, Bulgaria</td>\n",
       "      <td>2 weeks ago</td>\n",
       "      <td>56.0</td>\n",
       "      <td>2025-02-06</td>\n",
       "      <td>2025-01-23</td>\n",
       "      <td>[spring boot, html, database, testing, design,...</td>\n",
       "      <td>43.5</td>\n",
       "      <td>analytics,go,spring boot,database,html,javascr...</td>\n",
       "    </tr>\n",
       "    <tr>\n",
       "      <th>7</th>\n",
       "      <td>3935983004</td>\n",
       "      <td>Junior .NET Developer Accedia Sofia, Sofia Cit...</td>\n",
       "      <td>Accedia</td>\n",
       "      <td>Junior .NET Developer</td>\n",
       "      <td>Entry level</td>\n",
       "      <td>Sofia, Sofia City, Bulgaria</td>\n",
       "      <td>9 months ago</td>\n",
       "      <td>196.0</td>\n",
       "      <td>2025-02-06</td>\n",
       "      <td>2024-05-12</td>\n",
       "      <td>[sql, html, database, documentation, testing, ...</td>\n",
       "      <td>41.7</td>\n",
       "      <td>database,software,html,documentation,.net,java...</td>\n",
       "    </tr>\n",
       "  </tbody>\n",
       "</table>\n",
       "</div>"
      ],
      "text/plain": [
       "        Job_ID                                            Job_txt  \\\n",
       "8   4120976805  Junior C++ Developer Luxoft Bulgaria Sofia, So...   \n",
       "30  4120978886  Junior/Regular C++ Developer Luxoft Sofia, Sof...   \n",
       "26  4144431991  Back End Developer, Algorithms/Data Structures...   \n",
       "9   4132048865  Junior Developer - SAP Next Talent Program SAP...   \n",
       "7   3935983004  Junior .NET Developer Accedia Sofia, Sofia Cit...   \n",
       "\n",
       "                          company  \\\n",
       "8                 Luxoft Bulgaria   \n",
       "30                         Luxoft   \n",
       "26  Owen Thomas | Pending B Corp™   \n",
       "9                             SAP   \n",
       "7                         Accedia   \n",
       "\n",
       "                                            job-title             level  \\\n",
       "8                                Junior C++ Developer         Associate   \n",
       "30                       Junior/Regular C++ Developer  Mid-Senior level   \n",
       "26  Back End Developer, Algorithms/Data Structures...  Mid-Senior level   \n",
       "9          Junior Developer - SAP Next Talent Program    Not Applicable   \n",
       "7                               Junior .NET Developer       Entry level   \n",
       "\n",
       "                       location posted-time-ago  nb_candidats scraping_date  \\\n",
       "8   Sofia, Sofia City, Bulgaria     4 weeks ago          29.0    2025-02-06   \n",
       "30  Sofia, Sofia City, Bulgaria     4 weeks ago           NaN    2025-02-06   \n",
       "26               European Union            None          53.0    2025-02-06   \n",
       "9   Sofia, Sofia City, Bulgaria     2 weeks ago          56.0    2025-02-06   \n",
       "7   Sofia, Sofia City, Bulgaria    9 months ago         196.0    2025-02-06   \n",
       "\n",
       "   posted_date                                             skills  \\\n",
       "8   2025-01-09  [finance, business, continuous integration, li...   \n",
       "30  2025-01-09  [finance, business, continuous integration, li...   \n",
       "26         NaT  [blockchain, prometheus, go, mongodb, algorith...   \n",
       "9   2025-01-23  [spring boot, html, database, testing, design,...   \n",
       "7   2024-05-12  [sql, html, database, documentation, testing, ...   \n",
       "\n",
       "    match_score                                     missing_skills  \n",
       "8          50.0  finance,continuous integration,software,linux,...  \n",
       "30         46.2  finance,kubernetes,continuous integration,lang...  \n",
       "26         43.8  sentry,kubernetes,go,api,complex system,mongod...  \n",
       "9          43.5  analytics,go,spring boot,database,html,javascr...  \n",
       "7          41.7  database,software,html,documentation,.net,java...  "
      ]
     },
     "execution_count": 3,
     "metadata": {},
     "output_type": "execute_result"
    }
   ],
   "source": [
    "jobs_df = pd.read_json(\"../data/linkedin_jobs_scraped.json\", convert_dates=['posted_date','scraping_date'])\n",
    "jobs_df.head()"
   ]
  },
  {
   "cell_type": "code",
   "execution_count": 4,
   "metadata": {},
   "outputs": [],
   "source": [
    "!pip install openai > /dev/null 2>&1"
   ]
  },
  {
   "cell_type": "code",
   "execution_count": 5,
   "metadata": {},
   "outputs": [
    {
     "name": "stdout",
     "output_type": "stream",
     "text": [
      "Note: you may need to restart the kernel to use updated packages.\n"
     ]
    }
   ],
   "source": [
    "pip install transformers > /dev/null 2>&1"
   ]
  },
  {
   "cell_type": "code",
   "execution_count": 6,
   "metadata": {},
   "outputs": [],
   "source": [
    "!pip install torch > /dev/null 2>&1\n"
   ]
  },
  {
   "cell_type": "markdown",
   "metadata": {},
   "source": [
    "##  BART Model\n",
    "\n",
    "- Explicitly trained for classification tasks.\n",
    "\n",
    "- BART does direct classification and provides scores for each skill independently. It’s optimized for this kind of multi-label classification task."
   ]
  },
  {
   "cell_type": "code",
   "execution_count": 7,
   "metadata": {},
   "outputs": [
    {
     "data": {
      "application/vnd.jupyter.widget-view+json": {
       "model_id": "bbc87e29c6cf424582564806ef7b2707",
       "version_major": 2,
       "version_minor": 0
      },
      "text/plain": [
       "model.safetensors:   0%|          | 0.00/1.63G [00:00<?, ?B/s]"
      ]
     },
     "metadata": {},
     "output_type": "display_data"
    },
    {
     "data": {
      "application/vnd.jupyter.widget-view+json": {
       "model_id": "955067684c814ea095d98e067e06e096",
       "version_major": 2,
       "version_minor": 0
      },
      "text/plain": [
       "tokenizer_config.json:   0%|          | 0.00/26.0 [00:00<?, ?B/s]"
      ]
     },
     "metadata": {},
     "output_type": "display_data"
    },
    {
     "data": {
      "application/vnd.jupyter.widget-view+json": {
       "model_id": "0988b75012a242919531ac07e34bafef",
       "version_major": 2,
       "version_minor": 0
      },
      "text/plain": [
       "vocab.json:   0%|          | 0.00/899k [00:00<?, ?B/s]"
      ]
     },
     "metadata": {},
     "output_type": "display_data"
    },
    {
     "data": {
      "application/vnd.jupyter.widget-view+json": {
       "model_id": "3b621de5844d4675b96ac3f059038596",
       "version_major": 2,
       "version_minor": 0
      },
      "text/plain": [
       "merges.txt:   0%|          | 0.00/456k [00:00<?, ?B/s]"
      ]
     },
     "metadata": {},
     "output_type": "display_data"
    },
    {
     "data": {
      "application/vnd.jupyter.widget-view+json": {
       "model_id": "416e0517c0b041ab82839bebd0a1ebbe",
       "version_major": 2,
       "version_minor": 0
      },
      "text/plain": [
       "tokenizer.json:   0%|          | 0.00/1.36M [00:00<?, ?B/s]"
      ]
     },
     "metadata": {},
     "output_type": "display_data"
    },
    {
     "name": "stderr",
     "output_type": "stream",
     "text": [
      "Device set to use mps:0\n"
     ]
    }
   ],
   "source": [
    "import pandas as pd\n",
    "from transformers import pipeline\n",
    "\n",
    "# Load the zero-shot classification model\n",
    "classifier = pipeline(\"zero-shot-classification\", model=\"facebook/bart-large-mnli\")\n",
    "\n",
    "# Function to compute match score\n",
    "def get_match_score(job_desc, candidate_skills):\n",
    "    labels = candidate_skills.split(\", \")  # Convert skills into a list\n",
    "    result = classifier(job_desc, labels)\n",
    "    \n",
    "    # Get the highest score among the matched skills\n",
    "    match_score = max(result[\"scores\"]) * 100  # Convert to percentage\n",
    "    return round(match_score, 2)  # Round to 2 decimal places\n",
    "\n"
   ]
  },
  {
   "cell_type": "code",
   "execution_count": 8,
   "metadata": {},
   "outputs": [
    {
     "data": {
      "text/plain": [
       "'flask,scikit-learn,apache spark,analytics,support,databases,machine learning,data visualization,mysql,data analysis,tensorflow,database,data science,java,python,computer science,snowflake,engineering,information management,docker,linux'"
      ]
     },
     "execution_count": 8,
     "metadata": {},
     "output_type": "execute_result"
    }
   ],
   "source": [
    "skills_from_text = \"flask,Scikit-learn,Apache Spark,analytics,support,databases,machine learning,data visualization,\\\n",
    "mysql,data analysis,tensorflow,database,data science,java,python,computer science,snowflake,engineering,information management,docker,linux\"\n",
    "\n",
    "skills_from_text = skills_from_text.lower()\n",
    "skills_from_text"
   ]
  },
  {
   "cell_type": "code",
   "execution_count": 9,
   "metadata": {},
   "outputs": [],
   "source": [
    "jobs_df[\"model_score\"] = jobs_df[\"Job_txt\"].apply(lambda x: get_match_score(x, skills_from_text))"
   ]
  },
  {
   "cell_type": "code",
   "execution_count": 10,
   "metadata": {},
   "outputs": [
    {
     "data": {
      "text/html": [
       "<div>\n",
       "<style scoped>\n",
       "    .dataframe tbody tr th:only-of-type {\n",
       "        vertical-align: middle;\n",
       "    }\n",
       "\n",
       "    .dataframe tbody tr th {\n",
       "        vertical-align: top;\n",
       "    }\n",
       "\n",
       "    .dataframe thead th {\n",
       "        text-align: right;\n",
       "    }\n",
       "</style>\n",
       "<table border=\"1\" class=\"dataframe\">\n",
       "  <thead>\n",
       "    <tr style=\"text-align: right;\">\n",
       "      <th></th>\n",
       "      <th>Job_ID</th>\n",
       "      <th>Job_txt</th>\n",
       "      <th>company</th>\n",
       "      <th>job-title</th>\n",
       "      <th>level</th>\n",
       "      <th>location</th>\n",
       "      <th>posted-time-ago</th>\n",
       "      <th>nb_candidats</th>\n",
       "      <th>scraping_date</th>\n",
       "      <th>posted_date</th>\n",
       "      <th>skills</th>\n",
       "      <th>match_score</th>\n",
       "      <th>missing_skills</th>\n",
       "      <th>model_score</th>\n",
       "    </tr>\n",
       "  </thead>\n",
       "  <tbody>\n",
       "    <tr>\n",
       "      <th>8</th>\n",
       "      <td>4120976805</td>\n",
       "      <td>Junior C++ Developer Luxoft Bulgaria Sofia, So...</td>\n",
       "      <td>Luxoft Bulgaria</td>\n",
       "      <td>Junior C++ Developer</td>\n",
       "      <td>Associate</td>\n",
       "      <td>Sofia, Sofia City, Bulgaria</td>\n",
       "      <td>4 weeks ago</td>\n",
       "      <td>29.0</td>\n",
       "      <td>2025-02-06</td>\n",
       "      <td>2025-01-09</td>\n",
       "      <td>[finance, business, continuous integration, li...</td>\n",
       "      <td>50.0</td>\n",
       "      <td>finance,continuous integration,software,linux,...</td>\n",
       "      <td>98.65</td>\n",
       "    </tr>\n",
       "    <tr>\n",
       "      <th>30</th>\n",
       "      <td>4120978886</td>\n",
       "      <td>Junior/Regular C++ Developer Luxoft Sofia, Sof...</td>\n",
       "      <td>Luxoft</td>\n",
       "      <td>Junior/Regular C++ Developer</td>\n",
       "      <td>Mid-Senior level</td>\n",
       "      <td>Sofia, Sofia City, Bulgaria</td>\n",
       "      <td>4 weeks ago</td>\n",
       "      <td>NaN</td>\n",
       "      <td>2025-02-06</td>\n",
       "      <td>2025-01-09</td>\n",
       "      <td>[finance, business, continuous integration, li...</td>\n",
       "      <td>46.2</td>\n",
       "      <td>finance,kubernetes,continuous integration,lang...</td>\n",
       "      <td>98.76</td>\n",
       "    </tr>\n",
       "    <tr>\n",
       "      <th>26</th>\n",
       "      <td>4144431991</td>\n",
       "      <td>Back End Developer, Algorithms/Data Structures...</td>\n",
       "      <td>Owen Thomas | Pending B Corp™</td>\n",
       "      <td>Back End Developer, Algorithms/Data Structures...</td>\n",
       "      <td>Mid-Senior level</td>\n",
       "      <td>European Union</td>\n",
       "      <td>None</td>\n",
       "      <td>53.0</td>\n",
       "      <td>2025-02-06</td>\n",
       "      <td>NaT</td>\n",
       "      <td>[blockchain, prometheus, go, mongodb, algorith...</td>\n",
       "      <td>43.8</td>\n",
       "      <td>sentry,kubernetes,go,api,complex system,mongod...</td>\n",
       "      <td>97.40</td>\n",
       "    </tr>\n",
       "    <tr>\n",
       "      <th>9</th>\n",
       "      <td>4132048865</td>\n",
       "      <td>Junior Developer - SAP Next Talent Program SAP...</td>\n",
       "      <td>SAP</td>\n",
       "      <td>Junior Developer - SAP Next Talent Program</td>\n",
       "      <td>Not Applicable</td>\n",
       "      <td>Sofia, Sofia City, Bulgaria</td>\n",
       "      <td>2 weeks ago</td>\n",
       "      <td>56.0</td>\n",
       "      <td>2025-02-06</td>\n",
       "      <td>2025-01-23</td>\n",
       "      <td>[spring boot, html, database, testing, design,...</td>\n",
       "      <td>43.5</td>\n",
       "      <td>analytics,go,spring boot,database,html,javascr...</td>\n",
       "      <td>86.56</td>\n",
       "    </tr>\n",
       "    <tr>\n",
       "      <th>7</th>\n",
       "      <td>3935983004</td>\n",
       "      <td>Junior .NET Developer Accedia Sofia, Sofia Cit...</td>\n",
       "      <td>Accedia</td>\n",
       "      <td>Junior .NET Developer</td>\n",
       "      <td>Entry level</td>\n",
       "      <td>Sofia, Sofia City, Bulgaria</td>\n",
       "      <td>9 months ago</td>\n",
       "      <td>196.0</td>\n",
       "      <td>2025-02-06</td>\n",
       "      <td>2024-05-12</td>\n",
       "      <td>[sql, html, database, documentation, testing, ...</td>\n",
       "      <td>41.7</td>\n",
       "      <td>database,software,html,documentation,.net,java...</td>\n",
       "      <td>67.24</td>\n",
       "    </tr>\n",
       "  </tbody>\n",
       "</table>\n",
       "</div>"
      ],
      "text/plain": [
       "        Job_ID                                            Job_txt  \\\n",
       "8   4120976805  Junior C++ Developer Luxoft Bulgaria Sofia, So...   \n",
       "30  4120978886  Junior/Regular C++ Developer Luxoft Sofia, Sof...   \n",
       "26  4144431991  Back End Developer, Algorithms/Data Structures...   \n",
       "9   4132048865  Junior Developer - SAP Next Talent Program SAP...   \n",
       "7   3935983004  Junior .NET Developer Accedia Sofia, Sofia Cit...   \n",
       "\n",
       "                          company  \\\n",
       "8                 Luxoft Bulgaria   \n",
       "30                         Luxoft   \n",
       "26  Owen Thomas | Pending B Corp™   \n",
       "9                             SAP   \n",
       "7                         Accedia   \n",
       "\n",
       "                                            job-title             level  \\\n",
       "8                                Junior C++ Developer         Associate   \n",
       "30                       Junior/Regular C++ Developer  Mid-Senior level   \n",
       "26  Back End Developer, Algorithms/Data Structures...  Mid-Senior level   \n",
       "9          Junior Developer - SAP Next Talent Program    Not Applicable   \n",
       "7                               Junior .NET Developer       Entry level   \n",
       "\n",
       "                       location posted-time-ago  nb_candidats scraping_date  \\\n",
       "8   Sofia, Sofia City, Bulgaria     4 weeks ago          29.0    2025-02-06   \n",
       "30  Sofia, Sofia City, Bulgaria     4 weeks ago           NaN    2025-02-06   \n",
       "26               European Union            None          53.0    2025-02-06   \n",
       "9   Sofia, Sofia City, Bulgaria     2 weeks ago          56.0    2025-02-06   \n",
       "7   Sofia, Sofia City, Bulgaria    9 months ago         196.0    2025-02-06   \n",
       "\n",
       "   posted_date                                             skills  \\\n",
       "8   2025-01-09  [finance, business, continuous integration, li...   \n",
       "30  2025-01-09  [finance, business, continuous integration, li...   \n",
       "26         NaT  [blockchain, prometheus, go, mongodb, algorith...   \n",
       "9   2025-01-23  [spring boot, html, database, testing, design,...   \n",
       "7   2024-05-12  [sql, html, database, documentation, testing, ...   \n",
       "\n",
       "    match_score                                     missing_skills  \\\n",
       "8          50.0  finance,continuous integration,software,linux,...   \n",
       "30         46.2  finance,kubernetes,continuous integration,lang...   \n",
       "26         43.8  sentry,kubernetes,go,api,complex system,mongod...   \n",
       "9          43.5  analytics,go,spring boot,database,html,javascr...   \n",
       "7          41.7  database,software,html,documentation,.net,java...   \n",
       "\n",
       "    model_score  \n",
       "8         98.65  \n",
       "30        98.76  \n",
       "26        97.40  \n",
       "9         86.56  \n",
       "7         67.24  "
      ]
     },
     "execution_count": 10,
     "metadata": {},
     "output_type": "execute_result"
    }
   ],
   "source": [
    "jobs_df.head()"
   ]
  },
  {
   "cell_type": "code",
   "execution_count": 11,
   "metadata": {},
   "outputs": [],
   "source": [
    "!pip install sentence-transformers > /dev/null 2>&1\n"
   ]
  },
  {
   "cell_type": "markdown",
   "metadata": {},
   "source": [
    "##  MiniLM model\n",
    "\n",
    "- A semantic similarity model, designed to measure how similar two pieces of text are\n",
    "\n",
    "- MiniLM calculates overall similarity between two pieces of text, and doesn’t focus on individual labels, which makes it less suited for fine-grained classification tasks like skill-job matching."
   ]
  },
  {
   "cell_type": "code",
   "execution_count": 12,
   "metadata": {},
   "outputs": [
    {
     "data": {
      "application/vnd.jupyter.widget-view+json": {
       "model_id": "0bde37043d9d4c6e95cd59483006167e",
       "version_major": 2,
       "version_minor": 0
      },
      "text/plain": [
       "modules.json:   0%|          | 0.00/349 [00:00<?, ?B/s]"
      ]
     },
     "metadata": {},
     "output_type": "display_data"
    },
    {
     "data": {
      "application/vnd.jupyter.widget-view+json": {
       "model_id": "fd5f99c24f484253981c4809bf578459",
       "version_major": 2,
       "version_minor": 0
      },
      "text/plain": [
       "config_sentence_transformers.json:   0%|          | 0.00/116 [00:00<?, ?B/s]"
      ]
     },
     "metadata": {},
     "output_type": "display_data"
    },
    {
     "data": {
      "application/vnd.jupyter.widget-view+json": {
       "model_id": "5636aec8f3694eac9b0f7931315acda8",
       "version_major": 2,
       "version_minor": 0
      },
      "text/plain": [
       "README.md:   0%|          | 0.00/10.7k [00:00<?, ?B/s]"
      ]
     },
     "metadata": {},
     "output_type": "display_data"
    },
    {
     "data": {
      "application/vnd.jupyter.widget-view+json": {
       "model_id": "464967932b4f402ca6b5cdef8064cb94",
       "version_major": 2,
       "version_minor": 0
      },
      "text/plain": [
       "sentence_bert_config.json:   0%|          | 0.00/53.0 [00:00<?, ?B/s]"
      ]
     },
     "metadata": {},
     "output_type": "display_data"
    },
    {
     "data": {
      "application/vnd.jupyter.widget-view+json": {
       "model_id": "e23f2d1b8bbe49b98ddf0c626d55bee0",
       "version_major": 2,
       "version_minor": 0
      },
      "text/plain": [
       "config.json:   0%|          | 0.00/612 [00:00<?, ?B/s]"
      ]
     },
     "metadata": {},
     "output_type": "display_data"
    },
    {
     "data": {
      "application/vnd.jupyter.widget-view+json": {
       "model_id": "77ede931117342ba915ec6e0410b86de",
       "version_major": 2,
       "version_minor": 0
      },
      "text/plain": [
       "model.safetensors:   0%|          | 0.00/90.9M [00:00<?, ?B/s]"
      ]
     },
     "metadata": {},
     "output_type": "display_data"
    },
    {
     "data": {
      "application/vnd.jupyter.widget-view+json": {
       "model_id": "708b09f830b9482da340d3b1245400e1",
       "version_major": 2,
       "version_minor": 0
      },
      "text/plain": [
       "tokenizer_config.json:   0%|          | 0.00/350 [00:00<?, ?B/s]"
      ]
     },
     "metadata": {},
     "output_type": "display_data"
    },
    {
     "data": {
      "application/vnd.jupyter.widget-view+json": {
       "model_id": "5d48880127124de7a0880e2d916b77bf",
       "version_major": 2,
       "version_minor": 0
      },
      "text/plain": [
       "vocab.txt:   0%|          | 0.00/232k [00:00<?, ?B/s]"
      ]
     },
     "metadata": {},
     "output_type": "display_data"
    },
    {
     "data": {
      "application/vnd.jupyter.widget-view+json": {
       "model_id": "0e2b2d1b14104ad2a5b7918bf7355edd",
       "version_major": 2,
       "version_minor": 0
      },
      "text/plain": [
       "tokenizer.json:   0%|          | 0.00/466k [00:00<?, ?B/s]"
      ]
     },
     "metadata": {},
     "output_type": "display_data"
    },
    {
     "data": {
      "application/vnd.jupyter.widget-view+json": {
       "model_id": "8a9e957784bf4fdc977a9bf75f2bbc0d",
       "version_major": 2,
       "version_minor": 0
      },
      "text/plain": [
       "special_tokens_map.json:   0%|          | 0.00/112 [00:00<?, ?B/s]"
      ]
     },
     "metadata": {},
     "output_type": "display_data"
    },
    {
     "data": {
      "application/vnd.jupyter.widget-view+json": {
       "model_id": "a24879a64186496d92f972daa5421d83",
       "version_major": 2,
       "version_minor": 0
      },
      "text/plain": [
       "1_Pooling%2Fconfig.json:   0%|          | 0.00/190 [00:00<?, ?B/s]"
      ]
     },
     "metadata": {},
     "output_type": "display_data"
    }
   ],
   "source": [
    "from transformers import pipeline\n",
    "from sentence_transformers import SentenceTransformer, util\n",
    "import pandas as pd\n",
    "\n",
    "minilm_model = SentenceTransformer(\"sentence-transformers/all-MiniLM-L6-v2\")\n",
    "\n",
    "# Function to get similarity score using MiniLM\n",
    "def get_minilm_similarity(job_desc, candidate_skills):\n",
    "    skills_text = \", \".join(candidate_skills.split(\", \"))  # Convert list to text\n",
    "    job_embedding = minilm_model.encode(job_desc, convert_to_tensor=True)\n",
    "    skills_embedding = minilm_model.encode(skills_text, convert_to_tensor=True)\n",
    "    similarity = util.pytorch_cos_sim(job_embedding, skills_embedding).item()\n",
    "    return similarity * 100  # Convert to percentage\n"
   ]
  },
  {
   "cell_type": "code",
   "execution_count": 13,
   "metadata": {},
   "outputs": [],
   "source": [
    "jobs_df[\"MiniLM_Score\"] = jobs_df.apply(lambda row: get_minilm_similarity(row[\"Job_txt\"], skills_from_text), axis=1)"
   ]
  },
  {
   "cell_type": "code",
   "execution_count": 14,
   "metadata": {},
   "outputs": [
    {
     "data": {
      "text/html": [
       "<div>\n",
       "<style scoped>\n",
       "    .dataframe tbody tr th:only-of-type {\n",
       "        vertical-align: middle;\n",
       "    }\n",
       "\n",
       "    .dataframe tbody tr th {\n",
       "        vertical-align: top;\n",
       "    }\n",
       "\n",
       "    .dataframe thead th {\n",
       "        text-align: right;\n",
       "    }\n",
       "</style>\n",
       "<table border=\"1\" class=\"dataframe\">\n",
       "  <thead>\n",
       "    <tr style=\"text-align: right;\">\n",
       "      <th></th>\n",
       "      <th>Job_ID</th>\n",
       "      <th>Job_txt</th>\n",
       "      <th>company</th>\n",
       "      <th>job-title</th>\n",
       "      <th>level</th>\n",
       "      <th>location</th>\n",
       "      <th>posted-time-ago</th>\n",
       "      <th>nb_candidats</th>\n",
       "      <th>scraping_date</th>\n",
       "      <th>posted_date</th>\n",
       "      <th>skills</th>\n",
       "      <th>match_score</th>\n",
       "      <th>missing_skills</th>\n",
       "      <th>model_score</th>\n",
       "      <th>MiniLM_Score</th>\n",
       "    </tr>\n",
       "  </thead>\n",
       "  <tbody>\n",
       "    <tr>\n",
       "      <th>8</th>\n",
       "      <td>4120976805</td>\n",
       "      <td>Junior C++ Developer Luxoft Bulgaria Sofia, So...</td>\n",
       "      <td>Luxoft Bulgaria</td>\n",
       "      <td>Junior C++ Developer</td>\n",
       "      <td>Associate</td>\n",
       "      <td>Sofia, Sofia City, Bulgaria</td>\n",
       "      <td>4 weeks ago</td>\n",
       "      <td>29.0</td>\n",
       "      <td>2025-02-06</td>\n",
       "      <td>2025-01-09</td>\n",
       "      <td>[finance, business, continuous integration, li...</td>\n",
       "      <td>50.0</td>\n",
       "      <td>finance,continuous integration,software,linux,...</td>\n",
       "      <td>98.65</td>\n",
       "      <td>31.552833</td>\n",
       "    </tr>\n",
       "    <tr>\n",
       "      <th>30</th>\n",
       "      <td>4120978886</td>\n",
       "      <td>Junior/Regular C++ Developer Luxoft Sofia, Sof...</td>\n",
       "      <td>Luxoft</td>\n",
       "      <td>Junior/Regular C++ Developer</td>\n",
       "      <td>Mid-Senior level</td>\n",
       "      <td>Sofia, Sofia City, Bulgaria</td>\n",
       "      <td>4 weeks ago</td>\n",
       "      <td>NaN</td>\n",
       "      <td>2025-02-06</td>\n",
       "      <td>2025-01-09</td>\n",
       "      <td>[finance, business, continuous integration, li...</td>\n",
       "      <td>46.2</td>\n",
       "      <td>finance,kubernetes,continuous integration,lang...</td>\n",
       "      <td>98.76</td>\n",
       "      <td>27.527219</td>\n",
       "    </tr>\n",
       "    <tr>\n",
       "      <th>26</th>\n",
       "      <td>4144431991</td>\n",
       "      <td>Back End Developer, Algorithms/Data Structures...</td>\n",
       "      <td>Owen Thomas | Pending B Corp™</td>\n",
       "      <td>Back End Developer, Algorithms/Data Structures...</td>\n",
       "      <td>Mid-Senior level</td>\n",
       "      <td>European Union</td>\n",
       "      <td>None</td>\n",
       "      <td>53.0</td>\n",
       "      <td>2025-02-06</td>\n",
       "      <td>NaT</td>\n",
       "      <td>[blockchain, prometheus, go, mongodb, algorith...</td>\n",
       "      <td>43.8</td>\n",
       "      <td>sentry,kubernetes,go,api,complex system,mongod...</td>\n",
       "      <td>97.40</td>\n",
       "      <td>19.979054</td>\n",
       "    </tr>\n",
       "    <tr>\n",
       "      <th>9</th>\n",
       "      <td>4132048865</td>\n",
       "      <td>Junior Developer - SAP Next Talent Program SAP...</td>\n",
       "      <td>SAP</td>\n",
       "      <td>Junior Developer - SAP Next Talent Program</td>\n",
       "      <td>Not Applicable</td>\n",
       "      <td>Sofia, Sofia City, Bulgaria</td>\n",
       "      <td>2 weeks ago</td>\n",
       "      <td>56.0</td>\n",
       "      <td>2025-02-06</td>\n",
       "      <td>2025-01-23</td>\n",
       "      <td>[spring boot, html, database, testing, design,...</td>\n",
       "      <td>43.5</td>\n",
       "      <td>analytics,go,spring boot,database,html,javascr...</td>\n",
       "      <td>86.56</td>\n",
       "      <td>21.257222</td>\n",
       "    </tr>\n",
       "    <tr>\n",
       "      <th>7</th>\n",
       "      <td>3935983004</td>\n",
       "      <td>Junior .NET Developer Accedia Sofia, Sofia Cit...</td>\n",
       "      <td>Accedia</td>\n",
       "      <td>Junior .NET Developer</td>\n",
       "      <td>Entry level</td>\n",
       "      <td>Sofia, Sofia City, Bulgaria</td>\n",
       "      <td>9 months ago</td>\n",
       "      <td>196.0</td>\n",
       "      <td>2025-02-06</td>\n",
       "      <td>2024-05-12</td>\n",
       "      <td>[sql, html, database, documentation, testing, ...</td>\n",
       "      <td>41.7</td>\n",
       "      <td>database,software,html,documentation,.net,java...</td>\n",
       "      <td>67.24</td>\n",
       "      <td>21.083459</td>\n",
       "    </tr>\n",
       "  </tbody>\n",
       "</table>\n",
       "</div>"
      ],
      "text/plain": [
       "        Job_ID                                            Job_txt  \\\n",
       "8   4120976805  Junior C++ Developer Luxoft Bulgaria Sofia, So...   \n",
       "30  4120978886  Junior/Regular C++ Developer Luxoft Sofia, Sof...   \n",
       "26  4144431991  Back End Developer, Algorithms/Data Structures...   \n",
       "9   4132048865  Junior Developer - SAP Next Talent Program SAP...   \n",
       "7   3935983004  Junior .NET Developer Accedia Sofia, Sofia Cit...   \n",
       "\n",
       "                          company  \\\n",
       "8                 Luxoft Bulgaria   \n",
       "30                         Luxoft   \n",
       "26  Owen Thomas | Pending B Corp™   \n",
       "9                             SAP   \n",
       "7                         Accedia   \n",
       "\n",
       "                                            job-title             level  \\\n",
       "8                                Junior C++ Developer         Associate   \n",
       "30                       Junior/Regular C++ Developer  Mid-Senior level   \n",
       "26  Back End Developer, Algorithms/Data Structures...  Mid-Senior level   \n",
       "9          Junior Developer - SAP Next Talent Program    Not Applicable   \n",
       "7                               Junior .NET Developer       Entry level   \n",
       "\n",
       "                       location posted-time-ago  nb_candidats scraping_date  \\\n",
       "8   Sofia, Sofia City, Bulgaria     4 weeks ago          29.0    2025-02-06   \n",
       "30  Sofia, Sofia City, Bulgaria     4 weeks ago           NaN    2025-02-06   \n",
       "26               European Union            None          53.0    2025-02-06   \n",
       "9   Sofia, Sofia City, Bulgaria     2 weeks ago          56.0    2025-02-06   \n",
       "7   Sofia, Sofia City, Bulgaria    9 months ago         196.0    2025-02-06   \n",
       "\n",
       "   posted_date                                             skills  \\\n",
       "8   2025-01-09  [finance, business, continuous integration, li...   \n",
       "30  2025-01-09  [finance, business, continuous integration, li...   \n",
       "26         NaT  [blockchain, prometheus, go, mongodb, algorith...   \n",
       "9   2025-01-23  [spring boot, html, database, testing, design,...   \n",
       "7   2024-05-12  [sql, html, database, documentation, testing, ...   \n",
       "\n",
       "    match_score                                     missing_skills  \\\n",
       "8          50.0  finance,continuous integration,software,linux,...   \n",
       "30         46.2  finance,kubernetes,continuous integration,lang...   \n",
       "26         43.8  sentry,kubernetes,go,api,complex system,mongod...   \n",
       "9          43.5  analytics,go,spring boot,database,html,javascr...   \n",
       "7          41.7  database,software,html,documentation,.net,java...   \n",
       "\n",
       "    model_score  MiniLM_Score  \n",
       "8         98.65     31.552833  \n",
       "30        98.76     27.527219  \n",
       "26        97.40     19.979054  \n",
       "9         86.56     21.257222  \n",
       "7         67.24     21.083459  "
      ]
     },
     "execution_count": 14,
     "metadata": {},
     "output_type": "execute_result"
    }
   ],
   "source": [
    "jobs_df.head()"
   ]
  },
  {
   "cell_type": "code",
   "execution_count": null,
   "metadata": {},
   "outputs": [],
   "source": []
  }
 ],
 "metadata": {
  "kernelspec": {
   "display_name": "Python 3 (ipykernel)",
   "language": "python",
   "name": "python3"
  },
  "language_info": {
   "codemirror_mode": {
    "name": "ipython",
    "version": 3
   },
   "file_extension": ".py",
   "mimetype": "text/x-python",
   "name": "python",
   "nbconvert_exporter": "python",
   "pygments_lexer": "ipython3",
   "version": "3.11.9"
  }
 },
 "nbformat": 4,
 "nbformat_minor": 4
}
